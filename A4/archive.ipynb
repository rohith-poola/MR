{
 "cells": [
  {
   "cell_type": "code",
   "execution_count": 5,
   "metadata": {},
   "outputs": [
    {
     "name": "stdout",
     "output_type": "stream",
     "text": [
      "[(0, 0)]\n"
     ]
    }
   ],
   "source": [
    "import math\n",
    "\n",
    "def points_beyond(current, hit, grid_shape):\n",
    "    \"\"\"\n",
    "    Return all grid points (as (x, y) tuples) on the ray that starts at 'current',\n",
    "    goes through 'hit', and extends further until it goes out of bounds.\n",
    "    \n",
    "    Parameters:\n",
    "      current: Tuple[int, int] - starting point (row, col)\n",
    "      hit: Tuple[int, int] - point that the line goes through\n",
    "      grid_shape: Tuple[int, int] - shape of the grid (n_rows, n_cols)\n",
    "    \n",
    "    Returns:\n",
    "      List of (row, col) tuples along the ray from 'hit' onward.\n",
    "    \"\"\"\n",
    "    x1, y1 = current\n",
    "    x2, y2 = hit\n",
    "    \n",
    "    # Compute the direction vector\n",
    "    dx = x2 - x1\n",
    "    dy = y2 - y1\n",
    "\n",
    "    # Guard against the degenerate case where the two points are the same.\n",
    "    if dx == 0 and dy == 0:\n",
    "        return []\n",
    "\n",
    "    # Normalize the direction vector using the greatest common divisor\n",
    "    g = math.gcd(abs(dx), abs(dy))\n",
    "    step_x = dx // g\n",
    "    step_y = dy // g\n",
    "\n",
    "    # Now, starting at the hit point, extend the line until you exit the grid.\n",
    "    points = []\n",
    "    x, y = x1, y1\n",
    "    n_rows, n_cols = grid_shape\n",
    "    # while 0 <= x < n_rows and 0 <= y < n_cols:\n",
    "    #     points.append((x, y))\n",
    "    #     x += step_x\n",
    "    #     y += step_y\n",
    "    while (x, y) != (x2, y2):  # Stop before reaching (xc, yc)\n",
    "        points.append((x, y))\n",
    "        x += step_x\n",
    "        y += step_y\n",
    "\n",
    "    return points\n",
    "\n",
    "# Example usage:\n",
    "current_point = (0, 0)\n",
    "hit_point = (4, 7)\n",
    "grid_size = (10, 10)\n",
    "result = points_beyond(current_point, hit_point, grid_size)\n",
    "print(result)\n"
   ]
  },
  {
   "cell_type": "code",
   "execution_count": 8,
   "metadata": {},
   "outputs": [
    {
     "data": {
      "image/png": "[encoded data removed]",
      "text/plain": [
       "<Figure size 640x480 with 1 Axes>"
      ]
     },
     "metadata": {},
     "output_type": "display_data"
    }
   ],
   "source": [
    "import numpy as np\n",
    "import matplotlib.pyplot as plt\n",
    "from skimage.draw import line\n",
    "\n",
    "# Grid size\n",
    "grid_size = (30, 30)\n",
    "\n",
    "# Define start and end points\n",
    "xc, yc = 10, 10   # Sensor position\n",
    "xh, yh = 20, 15   # Lidar hit point\n",
    "\n",
    "# Get line cells\n",
    "rr, cc = line(xc, yc, xh, yh)\n",
    "\n",
    "# Create an empty grid\n",
    "grid = np.zeros(grid_size)\n",
    "\n",
    "# Mark the traced cells\n",
    "grid[rr, cc] = 1  # Set traced cells to 1\n",
    "\n",
    "# Plot the grid\n",
    "plt.imshow(grid, cmap='gray', origin='lower')\n",
    "plt.scatter(yc, xc, color='red', label=\"Sensor (Start)\")\n",
    "plt.scatter(yh, xh, color='blue', label=\"Hit Point (End)\")\n",
    "plt.legend()\n",
    "plt.title(\"Bresenham's Line Test\")\n",
    "plt.show()\n"
   ]
  }
 ],
 "metadata": {
  "kernelspec": {
   "display_name": ".venv",
   "language": "python",
   "name": "python3"
  },
  "language_info": {
   "codemirror_mode": {
    "name": "ipython",
    "version": 3
   },
   "file_extension": ".py",
   "mimetype": "text/x-python",
   "name": "python",
   "nbconvert_exporter": "python",
   "pygments_lexer": "ipython3",
   "version": "3.9.6"
  }
 },
 "nbformat": 4,
 "nbformat_minor": 2
}
